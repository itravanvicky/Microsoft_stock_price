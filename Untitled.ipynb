{
 "cells": [
  {
   "cell_type": "markdown",
   "id": "2b79e42e",
   "metadata": {},
   "source": [
    "# Importing the Dependinces"
   ]
  },
  {
   "cell_type": "code",
   "execution_count": 9,
   "id": "fc3af2c0",
   "metadata": {},
   "outputs": [],
   "source": [
    "import numpy as np\n",
    "import pandas as pd\n",
    "import matplotlib.pyplot as plt\n",
    "import seaborn as sns\n",
    "from sklearn.model_selection import train_test_split\n",
    "from sklearn.tree import DecisionTreeRegressor"
   ]
  },
  {
   "cell_type": "markdown",
   "id": "67e06eb9",
   "metadata": {},
   "source": [
    "# Data collection"
   ]
  },
  {
   "cell_type": "code",
   "execution_count": 2,
   "id": "df9764a2",
   "metadata": {},
   "outputs": [],
   "source": [
    "#loading the dataset in pandas dataframe\n",
    "Stock=pd.read_csv('MSFT.csv')"
   ]
  },
  {
   "cell_type": "code",
   "execution_count": 3,
   "id": "5dcbc878",
   "metadata": {},
   "outputs": [
    {
     "data": {
      "text/html": [
       "<div>\n",
       "<style scoped>\n",
       "    .dataframe tbody tr th:only-of-type {\n",
       "        vertical-align: middle;\n",
       "    }\n",
       "\n",
       "    .dataframe tbody tr th {\n",
       "        vertical-align: top;\n",
       "    }\n",
       "\n",
       "    .dataframe thead th {\n",
       "        text-align: right;\n",
       "    }\n",
       "</style>\n",
       "<table border=\"1\" class=\"dataframe\">\n",
       "  <thead>\n",
       "    <tr style=\"text-align: right;\">\n",
       "      <th></th>\n",
       "      <th>Date</th>\n",
       "      <th>Open</th>\n",
       "      <th>High</th>\n",
       "      <th>Low</th>\n",
       "      <th>Close</th>\n",
       "      <th>Adj Close</th>\n",
       "      <th>Volume</th>\n",
       "    </tr>\n",
       "  </thead>\n",
       "  <tbody>\n",
       "    <tr>\n",
       "      <th>0</th>\n",
       "      <td>1986-03-13</td>\n",
       "      <td>0.088542</td>\n",
       "      <td>0.101563</td>\n",
       "      <td>0.088542</td>\n",
       "      <td>0.097222</td>\n",
       "      <td>0.061378</td>\n",
       "      <td>1031788800</td>\n",
       "    </tr>\n",
       "    <tr>\n",
       "      <th>1</th>\n",
       "      <td>1986-03-14</td>\n",
       "      <td>0.097222</td>\n",
       "      <td>0.102431</td>\n",
       "      <td>0.097222</td>\n",
       "      <td>0.100694</td>\n",
       "      <td>0.063570</td>\n",
       "      <td>308160000</td>\n",
       "    </tr>\n",
       "    <tr>\n",
       "      <th>2</th>\n",
       "      <td>1986-03-17</td>\n",
       "      <td>0.100694</td>\n",
       "      <td>0.103299</td>\n",
       "      <td>0.100694</td>\n",
       "      <td>0.102431</td>\n",
       "      <td>0.064667</td>\n",
       "      <td>133171200</td>\n",
       "    </tr>\n",
       "    <tr>\n",
       "      <th>3</th>\n",
       "      <td>1986-03-18</td>\n",
       "      <td>0.102431</td>\n",
       "      <td>0.103299</td>\n",
       "      <td>0.098958</td>\n",
       "      <td>0.099826</td>\n",
       "      <td>0.063022</td>\n",
       "      <td>67766400</td>\n",
       "    </tr>\n",
       "    <tr>\n",
       "      <th>4</th>\n",
       "      <td>1986-03-19</td>\n",
       "      <td>0.099826</td>\n",
       "      <td>0.100694</td>\n",
       "      <td>0.097222</td>\n",
       "      <td>0.098090</td>\n",
       "      <td>0.061926</td>\n",
       "      <td>47894400</td>\n",
       "    </tr>\n",
       "  </tbody>\n",
       "</table>\n",
       "</div>"
      ],
      "text/plain": [
       "         Date      Open      High       Low     Close  Adj Close      Volume\n",
       "0  1986-03-13  0.088542  0.101563  0.088542  0.097222   0.061378  1031788800\n",
       "1  1986-03-14  0.097222  0.102431  0.097222  0.100694   0.063570   308160000\n",
       "2  1986-03-17  0.100694  0.103299  0.100694  0.102431   0.064667   133171200\n",
       "3  1986-03-18  0.102431  0.103299  0.098958  0.099826   0.063022    67766400\n",
       "4  1986-03-19  0.099826  0.100694  0.097222  0.098090   0.061926    47894400"
      ]
     },
     "execution_count": 3,
     "metadata": {},
     "output_type": "execute_result"
    }
   ],
   "source": [
    "#check first 5 rows of the dataset\n",
    "Stock.head()"
   ]
  },
  {
   "cell_type": "code",
   "execution_count": 4,
   "id": "926208df",
   "metadata": {},
   "outputs": [
    {
     "data": {
      "text/html": [
       "<div>\n",
       "<style scoped>\n",
       "    .dataframe tbody tr th:only-of-type {\n",
       "        vertical-align: middle;\n",
       "    }\n",
       "\n",
       "    .dataframe tbody tr th {\n",
       "        vertical-align: top;\n",
       "    }\n",
       "\n",
       "    .dataframe thead th {\n",
       "        text-align: right;\n",
       "    }\n",
       "</style>\n",
       "<table border=\"1\" class=\"dataframe\">\n",
       "  <thead>\n",
       "    <tr style=\"text-align: right;\">\n",
       "      <th></th>\n",
       "      <th>Date</th>\n",
       "      <th>Open</th>\n",
       "      <th>High</th>\n",
       "      <th>Low</th>\n",
       "      <th>Close</th>\n",
       "      <th>Adj Close</th>\n",
       "      <th>Volume</th>\n",
       "    </tr>\n",
       "  </thead>\n",
       "  <tbody>\n",
       "    <tr>\n",
       "      <th>9003</th>\n",
       "      <td>2021-11-30</td>\n",
       "      <td>335.320007</td>\n",
       "      <td>337.779999</td>\n",
       "      <td>328.989990</td>\n",
       "      <td>330.589996</td>\n",
       "      <td>330.589996</td>\n",
       "      <td>42885600</td>\n",
       "    </tr>\n",
       "    <tr>\n",
       "      <th>9004</th>\n",
       "      <td>2021-12-01</td>\n",
       "      <td>335.130005</td>\n",
       "      <td>339.279999</td>\n",
       "      <td>329.390015</td>\n",
       "      <td>330.079987</td>\n",
       "      <td>330.079987</td>\n",
       "      <td>33337600</td>\n",
       "    </tr>\n",
       "    <tr>\n",
       "      <th>9005</th>\n",
       "      <td>2021-12-02</td>\n",
       "      <td>330.299988</td>\n",
       "      <td>333.489990</td>\n",
       "      <td>327.799988</td>\n",
       "      <td>329.489990</td>\n",
       "      <td>329.489990</td>\n",
       "      <td>30766000</td>\n",
       "    </tr>\n",
       "    <tr>\n",
       "      <th>9006</th>\n",
       "      <td>2021-12-03</td>\n",
       "      <td>331.989990</td>\n",
       "      <td>332.700012</td>\n",
       "      <td>318.029999</td>\n",
       "      <td>323.010010</td>\n",
       "      <td>323.010010</td>\n",
       "      <td>41755900</td>\n",
       "    </tr>\n",
       "    <tr>\n",
       "      <th>9007</th>\n",
       "      <td>2021-12-06</td>\n",
       "      <td>323.950012</td>\n",
       "      <td>327.450012</td>\n",
       "      <td>319.230011</td>\n",
       "      <td>326.190002</td>\n",
       "      <td>326.190002</td>\n",
       "      <td>30007300</td>\n",
       "    </tr>\n",
       "  </tbody>\n",
       "</table>\n",
       "</div>"
      ],
      "text/plain": [
       "            Date        Open        High         Low       Close   Adj Close  \\\n",
       "9003  2021-11-30  335.320007  337.779999  328.989990  330.589996  330.589996   \n",
       "9004  2021-12-01  335.130005  339.279999  329.390015  330.079987  330.079987   \n",
       "9005  2021-12-02  330.299988  333.489990  327.799988  329.489990  329.489990   \n",
       "9006  2021-12-03  331.989990  332.700012  318.029999  323.010010  323.010010   \n",
       "9007  2021-12-06  323.950012  327.450012  319.230011  326.190002  326.190002   \n",
       "\n",
       "        Volume  \n",
       "9003  42885600  \n",
       "9004  33337600  \n",
       "9005  30766000  \n",
       "9006  41755900  \n",
       "9007  30007300  "
      ]
     },
     "execution_count": 4,
     "metadata": {},
     "output_type": "execute_result"
    }
   ],
   "source": [
    "#check last 5 rows of the dataset\n",
    "Stock.tail()"
   ]
  },
  {
   "cell_type": "code",
   "execution_count": 5,
   "id": "39b5c757",
   "metadata": {},
   "outputs": [
    {
     "data": {
      "text/plain": [
       "(9008, 7)"
      ]
     },
     "execution_count": 5,
     "metadata": {},
     "output_type": "execute_result"
    }
   ],
   "source": [
    "#check shape of the dataset\n",
    "Stock.shape"
   ]
  },
  {
   "cell_type": "code",
   "execution_count": 6,
   "id": "3a4b2a5c",
   "metadata": {},
   "outputs": [
    {
     "data": {
      "text/plain": [
       "Date         0\n",
       "Open         0\n",
       "High         0\n",
       "Low          0\n",
       "Close        0\n",
       "Adj Close    0\n",
       "Volume       0\n",
       "dtype: int64"
      ]
     },
     "execution_count": 6,
     "metadata": {},
     "output_type": "execute_result"
    }
   ],
   "source": [
    "#check missing values in dataset\n",
    "Stock.isnull().sum()"
   ]
  },
  {
   "cell_type": "code",
   "execution_count": 7,
   "id": "6fbc8908",
   "metadata": {},
   "outputs": [
    {
     "data": {
      "text/html": [
       "<div>\n",
       "<style scoped>\n",
       "    .dataframe tbody tr th:only-of-type {\n",
       "        vertical-align: middle;\n",
       "    }\n",
       "\n",
       "    .dataframe tbody tr th {\n",
       "        vertical-align: top;\n",
       "    }\n",
       "\n",
       "    .dataframe thead th {\n",
       "        text-align: right;\n",
       "    }\n",
       "</style>\n",
       "<table border=\"1\" class=\"dataframe\">\n",
       "  <thead>\n",
       "    <tr style=\"text-align: right;\">\n",
       "      <th></th>\n",
       "      <th>Open</th>\n",
       "      <th>High</th>\n",
       "      <th>Low</th>\n",
       "      <th>Close</th>\n",
       "      <th>Adj Close</th>\n",
       "      <th>Volume</th>\n",
       "    </tr>\n",
       "  </thead>\n",
       "  <tbody>\n",
       "    <tr>\n",
       "      <th>count</th>\n",
       "      <td>9008.000000</td>\n",
       "      <td>9008.000000</td>\n",
       "      <td>9008.000000</td>\n",
       "      <td>9008.000000</td>\n",
       "      <td>9008.000000</td>\n",
       "      <td>9.008000e+03</td>\n",
       "    </tr>\n",
       "    <tr>\n",
       "      <th>mean</th>\n",
       "      <td>39.100634</td>\n",
       "      <td>39.509320</td>\n",
       "      <td>38.688871</td>\n",
       "      <td>39.113846</td>\n",
       "      <td>34.052517</td>\n",
       "      <td>5.893725e+07</td>\n",
       "    </tr>\n",
       "    <tr>\n",
       "      <th>std</th>\n",
       "      <td>54.693955</td>\n",
       "      <td>55.194788</td>\n",
       "      <td>54.185887</td>\n",
       "      <td>54.725668</td>\n",
       "      <td>54.945451</td>\n",
       "      <td>3.853809e+07</td>\n",
       "    </tr>\n",
       "    <tr>\n",
       "      <th>min</th>\n",
       "      <td>0.088542</td>\n",
       "      <td>0.092014</td>\n",
       "      <td>0.088542</td>\n",
       "      <td>0.090278</td>\n",
       "      <td>0.056994</td>\n",
       "      <td>2.304000e+06</td>\n",
       "    </tr>\n",
       "    <tr>\n",
       "      <th>25%</th>\n",
       "      <td>3.958985</td>\n",
       "      <td>4.007813</td>\n",
       "      <td>3.935547</td>\n",
       "      <td>3.960938</td>\n",
       "      <td>2.500626</td>\n",
       "      <td>3.481388e+07</td>\n",
       "    </tr>\n",
       "    <tr>\n",
       "      <th>50%</th>\n",
       "      <td>26.750000</td>\n",
       "      <td>27.030001</td>\n",
       "      <td>26.469999</td>\n",
       "      <td>26.745000</td>\n",
       "      <td>18.841834</td>\n",
       "      <td>5.222880e+07</td>\n",
       "    </tr>\n",
       "    <tr>\n",
       "      <th>75%</th>\n",
       "      <td>39.113751</td>\n",
       "      <td>39.783438</td>\n",
       "      <td>38.502499</td>\n",
       "      <td>39.115313</td>\n",
       "      <td>28.682776</td>\n",
       "      <td>7.281968e+07</td>\n",
       "    </tr>\n",
       "    <tr>\n",
       "      <th>max</th>\n",
       "      <td>344.619995</td>\n",
       "      <td>349.670013</td>\n",
       "      <td>342.200012</td>\n",
       "      <td>343.109985</td>\n",
       "      <td>343.109985</td>\n",
       "      <td>1.031789e+09</td>\n",
       "    </tr>\n",
       "  </tbody>\n",
       "</table>\n",
       "</div>"
      ],
      "text/plain": [
       "              Open         High          Low        Close    Adj Close  \\\n",
       "count  9008.000000  9008.000000  9008.000000  9008.000000  9008.000000   \n",
       "mean     39.100634    39.509320    38.688871    39.113846    34.052517   \n",
       "std      54.693955    55.194788    54.185887    54.725668    54.945451   \n",
       "min       0.088542     0.092014     0.088542     0.090278     0.056994   \n",
       "25%       3.958985     4.007813     3.935547     3.960938     2.500626   \n",
       "50%      26.750000    27.030001    26.469999    26.745000    18.841834   \n",
       "75%      39.113751    39.783438    38.502499    39.115313    28.682776   \n",
       "max     344.619995   349.670013   342.200012   343.109985   343.109985   \n",
       "\n",
       "             Volume  \n",
       "count  9.008000e+03  \n",
       "mean   5.893725e+07  \n",
       "std    3.853809e+07  \n",
       "min    2.304000e+06  \n",
       "25%    3.481388e+07  \n",
       "50%    5.222880e+07  \n",
       "75%    7.281968e+07  \n",
       "max    1.031789e+09  "
      ]
     },
     "execution_count": 7,
     "metadata": {},
     "output_type": "execute_result"
    }
   ],
   "source": [
    "#check statical measure of the dataset\n",
    "Stock.describe()"
   ]
  },
  {
   "cell_type": "code",
   "execution_count": 13,
   "id": "caa7f235",
   "metadata": {},
   "outputs": [
    {
     "data": {
      "image/png": "[encoded data removed]",
      "text/plain": [
       "<Figure size 720x288 with 1 Axes>"
      ]
     },
     "metadata": {
      "needs_background": "light"
     },
     "output_type": "display_data"
    }
   ],
   "source": [
    "#analiyes the dataset\n",
    "plt.figure(figsize=(10, 4))\n",
    "plt.title(\"Microsoft Stock Prices\")\n",
    "plt.xlabel(\"Date\")\n",
    "plt.ylabel(\"Close\")\n",
    "plt.plot(Stock[\"Close\"])\n",
    "plt.show()"
   ]
  },
  {
   "cell_type": "code",
   "execution_count": 16,
   "id": "f9a357bf",
   "metadata": {},
   "outputs": [
    {
     "name": "stdout",
     "output_type": "stream",
     "text": [
      "               Open      High       Low     Close  Adj Close    Volume\n",
      "Open       1.000000  0.999936  0.999932  0.999871   0.997083 -0.307958\n",
      "High       0.999936  1.000000  0.999896  0.999928   0.997047 -0.306406\n",
      "Low        0.999932  0.999896  1.000000  0.999936   0.997238 -0.309559\n",
      "Close      0.999871  0.999928  0.999936  1.000000   0.997216 -0.308089\n",
      "Adj Close  0.997083  0.997047  0.997238  0.997216   1.000000 -0.310694\n",
      "Volume    -0.307958 -0.306406 -0.309559 -0.308089  -0.310694  1.000000\n"
     ]
    },
    {
     "data": {
      "image/png": "[encoded data removed]",
      "text/plain": [
       "<Figure size 432x288 with 2 Axes>"
      ]
     },
     "metadata": {
      "needs_background": "light"
     },
     "output_type": "display_data"
    }
   ],
   "source": [
    "#Now let’s have a look at the correlation between the features of this dataset:\n",
    "\n",
    "print(Stock.corr())\n",
    "sns.heatmap(Stock.corr())\n",
    "plt.show()"
   ]
  },
  {
   "cell_type": "code",
   "execution_count": 17,
   "id": "ec8668ab",
   "metadata": {},
   "outputs": [],
   "source": [
    "#sepliting the dataset in train and set dataset\n",
    "X = Stock[[\"Open\", \"High\", \"Low\"]]\n",
    "Y = Stock[\"Close\"]"
   ]
  },
  {
   "cell_type": "code",
   "execution_count": 20,
   "id": "48ce0b00",
   "metadata": {},
   "outputs": [],
   "source": [
    "#reshaped the dataset in numpy array\n",
    "X = X.to_numpy()\n",
    "Y = Y.to_numpy()\n",
    "Y = Y.reshape(-1, 1)"
   ]
  },
  {
   "cell_type": "code",
   "execution_count": 21,
   "id": "c9ca126a",
   "metadata": {},
   "outputs": [
    {
     "name": "stdout",
     "output_type": "stream",
     "text": [
      "[[8.85420000e-02 1.01563000e-01 8.85420000e-02]\n",
      " [9.72220000e-02 1.02431000e-01 9.72220000e-02]\n",
      " [1.00694000e-01 1.03299000e-01 1.00694000e-01]\n",
      " ...\n",
      " [3.30299988e+02 3.33489990e+02 3.27799988e+02]\n",
      " [3.31989990e+02 3.32700012e+02 3.18029999e+02]\n",
      " [3.23950012e+02 3.27450012e+02 3.19230011e+02]]\n",
      "[[9.72220000e-02]\n",
      " [1.00694000e-01]\n",
      " [1.02431000e-01]\n",
      " ...\n",
      " [3.29489990e+02]\n",
      " [3.23010010e+02]\n",
      " [3.26190002e+02]]\n"
     ]
    }
   ],
   "source": [
    "print(X)\n",
    "print(Y)"
   ]
  },
  {
   "cell_type": "code",
   "execution_count": 22,
   "id": "68ec9ea4",
   "metadata": {},
   "outputs": [],
   "source": [
    "#splitting the dataset in train and test dataset\n",
    "X_train,X_test,Y_train,Y_test = train_test_split(X,Y, random_state=2, test_size=0.2)"
   ]
  },
  {
   "cell_type": "code",
   "execution_count": 23,
   "id": "4b4f84d4",
   "metadata": {},
   "outputs": [
    {
     "name": "stdout",
     "output_type": "stream",
     "text": [
      "(9008, 3) (7206, 3) (1802, 3)\n"
     ]
    }
   ],
   "source": [
    "print(X.shape,X_train.shape,X_test.shape)"
   ]
  },
  {
   "cell_type": "code",
   "execution_count": 24,
   "id": "c982c95b",
   "metadata": {},
   "outputs": [],
   "source": [
    "#fitting the model\n",
    "model = DecisionTreeRegressor()"
   ]
  },
  {
   "cell_type": "code",
   "execution_count": 25,
   "id": "f74220ad",
   "metadata": {},
   "outputs": [
    {
     "data": {
      "text/plain": [
       "DecisionTreeRegressor()"
      ]
     },
     "execution_count": 25,
     "metadata": {},
     "output_type": "execute_result"
    }
   ],
   "source": [
    "#fitting the model\n",
    "model.fit(X_train,Y_train)"
   ]
  },
  {
   "cell_type": "code",
   "execution_count": 26,
   "id": "623faef2",
   "metadata": {},
   "outputs": [
    {
     "name": "stdout",
     "output_type": "stream",
     "text": [
      "   Predicted Rate\n",
      "0       27.500000\n",
      "1       33.299999\n",
      "2       28.450001\n",
      "3       31.855000\n",
      "4       23.440001\n"
     ]
    }
   ],
   "source": [
    "#model bulding\n",
    "ypred = model.predict(X_test)\n",
    "Stock = pd.DataFrame(data={\"Predicted Rate\": ypred})\n",
    "print(Stock.head())"
   ]
  },
  {
   "cell_type": "code",
   "execution_count": null,
   "id": "6cb72ee4",
   "metadata": {},
   "outputs": [],
   "source": []
  }
 ],
 "metadata": {
  "kernelspec": {
   "display_name": "Python 3 (ipykernel)",
   "language": "python",
   "name": "python3"
  },
  "language_info": {
   "codemirror_mode": {
    "name": "ipython",
    "version": 3
   },
   "file_extension": ".py",
   "mimetype": "text/x-python",
   "name": "python",
   "nbconvert_exporter": "python",
   "pygments_lexer": "ipython3",
   "version": "3.9.7"
  }
 },
 "nbformat": 4,
 "nbformat_minor": 5
}
